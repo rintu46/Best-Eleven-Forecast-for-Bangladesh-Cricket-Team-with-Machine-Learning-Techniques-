{
 "cells": [
  {
   "cell_type": "code",
   "execution_count": 61,
   "metadata": {},
   "outputs": [],
   "source": [
    "import numpy as np\n",
    "import pandas as pd\n",
    "import matplotlib.pyplot as plt\n",
    "from sklearn.model_selection import train_test_split\n",
    "from sklearn.naive_bayes import GaussianNB"
   ]
  },
  {
   "cell_type": "code",
   "execution_count": 62,
   "metadata": {},
   "outputs": [
    {
     "data": {
      "text/html": [
       "<div>\n",
       "<style scoped>\n",
       "    .dataframe tbody tr th:only-of-type {\n",
       "        vertical-align: middle;\n",
       "    }\n",
       "\n",
       "    .dataframe tbody tr th {\n",
       "        vertical-align: top;\n",
       "    }\n",
       "\n",
       "    .dataframe thead th {\n",
       "        text-align: right;\n",
       "    }\n",
       "</style>\n",
       "<table border=\"1\" class=\"dataframe\">\n",
       "  <thead>\n",
       "    <tr style=\"text-align: right;\">\n",
       "      <th></th>\n",
       "      <th>Player</th>\n",
       "      <th>Span</th>\n",
       "      <th>Mat</th>\n",
       "      <th>Inns</th>\n",
       "      <th>Overs</th>\n",
       "      <th>Mdns</th>\n",
       "      <th>Runs</th>\n",
       "      <th>Wkts</th>\n",
       "      <th>Ave</th>\n",
       "      <th>Econ</th>\n",
       "      <th>SR</th>\n",
       "      <th>4</th>\n",
       "      <th>5</th>\n",
       "      <th>Ct</th>\n",
       "      <th>St</th>\n",
       "      <th>rat</th>\n",
       "      <th>res</th>\n",
       "    </tr>\n",
       "  </thead>\n",
       "  <tbody>\n",
       "    <tr>\n",
       "      <th>0</th>\n",
       "      <td>Abdur Razzak</td>\n",
       "      <td>2004-2014</td>\n",
       "      <td>153</td>\n",
       "      <td>152</td>\n",
       "      <td>1327.3</td>\n",
       "      <td>70</td>\n",
       "      <td>6065</td>\n",
       "      <td>207</td>\n",
       "      <td>29.29</td>\n",
       "      <td>4.56</td>\n",
       "      <td>38.4</td>\n",
       "      <td>5</td>\n",
       "      <td>4</td>\n",
       "      <td>32</td>\n",
       "      <td>0</td>\n",
       "      <td>41.350027</td>\n",
       "      <td>1</td>\n",
       "    </tr>\n",
       "    <tr>\n",
       "      <th>1</th>\n",
       "      <td>Abul Hasan</td>\n",
       "      <td>2012-2018</td>\n",
       "      <td>7</td>\n",
       "      <td>7</td>\n",
       "      <td>36.0</td>\n",
       "      <td>1</td>\n",
       "      <td>244</td>\n",
       "      <td>0</td>\n",
       "      <td>0.00</td>\n",
       "      <td>6.77</td>\n",
       "      <td>0.0</td>\n",
       "      <td>0</td>\n",
       "      <td>0</td>\n",
       "      <td>1</td>\n",
       "      <td>0</td>\n",
       "      <td>34.884921</td>\n",
       "      <td>0</td>\n",
       "    </tr>\n",
       "    <tr>\n",
       "      <th>2</th>\n",
       "      <td>Abu Hider</td>\n",
       "      <td>2018-2018</td>\n",
       "      <td>2</td>\n",
       "      <td>2</td>\n",
       "      <td>18.0</td>\n",
       "      <td>2</td>\n",
       "      <td>89</td>\n",
       "      <td>3</td>\n",
       "      <td>29.66</td>\n",
       "      <td>4.94</td>\n",
       "      <td>36.0</td>\n",
       "      <td>0</td>\n",
       "      <td>0</td>\n",
       "      <td>1</td>\n",
       "      <td>0</td>\n",
       "      <td>46.144819</td>\n",
       "      <td>1</td>\n",
       "    </tr>\n",
       "    <tr>\n",
       "      <th>3</th>\n",
       "      <td>Abu Jayed</td>\n",
       "      <td>2019-2019</td>\n",
       "      <td>2</td>\n",
       "      <td>2</td>\n",
       "      <td>18.0</td>\n",
       "      <td>0</td>\n",
       "      <td>114</td>\n",
       "      <td>5</td>\n",
       "      <td>22.80</td>\n",
       "      <td>6.33</td>\n",
       "      <td>21.6</td>\n",
       "      <td>0</td>\n",
       "      <td>1</td>\n",
       "      <td>0</td>\n",
       "      <td>0</td>\n",
       "      <td>59.543860</td>\n",
       "      <td>1</td>\n",
       "    </tr>\n",
       "    <tr>\n",
       "      <th>4</th>\n",
       "      <td>Afif Hossain</td>\n",
       "      <td>2020-2020</td>\n",
       "      <td>1</td>\n",
       "      <td>1</td>\n",
       "      <td>2.0</td>\n",
       "      <td>0</td>\n",
       "      <td>12</td>\n",
       "      <td>1</td>\n",
       "      <td>12.00</td>\n",
       "      <td>6.00</td>\n",
       "      <td>12.0</td>\n",
       "      <td>0</td>\n",
       "      <td>0</td>\n",
       "      <td>0</td>\n",
       "      <td>0</td>\n",
       "      <td>13.083333</td>\n",
       "      <td>0</td>\n",
       "    </tr>\n",
       "  </tbody>\n",
       "</table>\n",
       "</div>"
      ],
      "text/plain": [
       "         Player       Span  Mat  Inns   Overs  Mdns  Runs  Wkts    Ave  Econ  \\\n",
       "0  Abdur Razzak  2004-2014  153   152  1327.3    70  6065   207  29.29  4.56   \n",
       "1    Abul Hasan  2012-2018    7     7    36.0     1   244     0   0.00  6.77   \n",
       "2     Abu Hider  2018-2018    2     2    18.0     2    89     3  29.66  4.94   \n",
       "3     Abu Jayed  2019-2019    2     2    18.0     0   114     5  22.80  6.33   \n",
       "4  Afif Hossain  2020-2020    1     1     2.0     0    12     1  12.00  6.00   \n",
       "\n",
       "     SR  4  5  Ct  St        rat  res  \n",
       "0  38.4  5  4  32   0  41.350027    1  \n",
       "1   0.0  0  0   1   0  34.884921    0  \n",
       "2  36.0  0  0   1   0  46.144819    1  \n",
       "3  21.6  0  1   0   0  59.543860    1  \n",
       "4  12.0  0  0   0   0  13.083333    0  "
      ]
     },
     "execution_count": 62,
     "metadata": {},
     "output_type": "execute_result"
    }
   ],
   "source": [
    "df = pd.read_csv('Boller_All.csv')\n",
    "df.head()"
   ]
  },
  {
   "cell_type": "code",
   "execution_count": 144,
   "metadata": {},
   "outputs": [],
   "source": [
    "target=df.res\n",
    "inputs=df.drop(['res','Player','Span'],axis='columns')"
   ]
  },
  {
   "cell_type": "code",
   "execution_count": 145,
   "metadata": {},
   "outputs": [],
   "source": [
    "X_train, X_test, y_train, y_test= train_test_split(inputs,target,test_size=0.3)"
   ]
  },
  {
   "cell_type": "code",
   "execution_count": 146,
   "metadata": {},
   "outputs": [],
   "source": [
    "model = GaussianNB()"
   ]
  },
  {
   "cell_type": "code",
   "execution_count": 147,
   "metadata": {},
   "outputs": [
    {
     "data": {
      "text/plain": [
       "GaussianNB()"
      ]
     },
     "execution_count": 147,
     "metadata": {},
     "output_type": "execute_result"
    }
   ],
   "source": [
    "model.fit(X_train, y_train)"
   ]
  },
  {
   "cell_type": "code",
   "execution_count": 149,
   "metadata": {},
   "outputs": [
    {
     "data": {
      "text/plain": [
       "0.7931034482758621"
      ]
     },
     "execution_count": 149,
     "metadata": {},
     "output_type": "execute_result"
    }
   ],
   "source": [
    "model.score(X_test, y_test)"
   ]
  },
  {
   "cell_type": "code",
   "execution_count": 111,
   "metadata": {},
   "outputs": [
    {
     "data": {
      "text/plain": [
       "69    1\n",
       "41    0\n",
       "12    0\n",
       "16    0\n",
       "17    0\n",
       "Name: res, dtype: int64"
      ]
     },
     "execution_count": 111,
     "metadata": {},
     "output_type": "execute_result"
    }
   ],
   "source": [
    "y_test[:5]"
   ]
  },
  {
   "cell_type": "code",
   "execution_count": 112,
   "metadata": {},
   "outputs": [
    {
     "data": {
      "text/plain": [
       "array([0, 1, 0, 0, 0], dtype=int64)"
      ]
     },
     "execution_count": 112,
     "metadata": {},
     "output_type": "execute_result"
    }
   ],
   "source": [
    "model.predict(X_test[:5])"
   ]
  },
  {
   "cell_type": "code",
   "execution_count": 80,
   "metadata": {},
   "outputs": [
    {
     "data": {
      "text/plain": [
       "array([[9.97854849e-01, 2.14515070e-03],\n",
       "       [9.99097786e-01, 9.02214115e-04],\n",
       "       [9.98237825e-01, 1.76217504e-03],\n",
       "       [9.99997796e-01, 2.20435170e-06],\n",
       "       [3.88304829e-06, 9.99996117e-01],\n",
       "       [9.99992116e-01, 7.88388036e-06],\n",
       "       [9.99607341e-01, 3.92658764e-04],\n",
       "       [5.93479018e-25, 1.00000000e+00],\n",
       "       [9.99854161e-01, 1.45838610e-04],\n",
       "       [9.99917275e-01, 8.27246960e-05]])"
      ]
     },
     "execution_count": 80,
     "metadata": {},
     "output_type": "execute_result"
    }
   ],
   "source": [
    "model.predict_proba(X_test[:10])"
   ]
  },
  {
   "cell_type": "code",
   "execution_count": 81,
   "metadata": {},
   "outputs": [
    {
     "data": {
      "text/plain": [
       "array([0.57142857, 0.78571429, 0.61538462, 0.53846154, 0.84615385])"
      ]
     },
     "execution_count": 81,
     "metadata": {},
     "output_type": "execute_result"
    }
   ],
   "source": [
    "from sklearn.model_selection import cross_val_score\n",
    "cross_val_score(GaussianNB(),X_train, y_train, cv=5)"
   ]
  },
  {
   "cell_type": "code",
   "execution_count": 82,
   "metadata": {},
   "outputs": [],
   "source": [
    "dm = pd.read_csv('Bowller_Current.csv')"
   ]
  },
  {
   "cell_type": "code",
   "execution_count": 83,
   "metadata": {},
   "outputs": [],
   "source": [
    "p=dm.drop(['res','Player','Span','rating'],axis='columns')\n",
    "q=dm.res"
   ]
  },
  {
   "cell_type": "code",
   "execution_count": 84,
   "metadata": {},
   "outputs": [
    {
     "data": {
      "text/html": [
       "<div>\n",
       "<style scoped>\n",
       "    .dataframe tbody tr th:only-of-type {\n",
       "        vertical-align: middle;\n",
       "    }\n",
       "\n",
       "    .dataframe tbody tr th {\n",
       "        vertical-align: top;\n",
       "    }\n",
       "\n",
       "    .dataframe thead th {\n",
       "        text-align: right;\n",
       "    }\n",
       "</style>\n",
       "<table border=\"1\" class=\"dataframe\">\n",
       "  <thead>\n",
       "    <tr style=\"text-align: right;\">\n",
       "      <th></th>\n",
       "      <th>Player</th>\n",
       "      <th>Span</th>\n",
       "      <th>Mat</th>\n",
       "      <th>Inns</th>\n",
       "      <th>Overs</th>\n",
       "      <th>Mdns</th>\n",
       "      <th>Runs</th>\n",
       "      <th>Wkts</th>\n",
       "      <th>Ave</th>\n",
       "      <th>Econ</th>\n",
       "      <th>SR</th>\n",
       "      <th>4</th>\n",
       "      <th>5</th>\n",
       "      <th>Ct</th>\n",
       "      <th>St</th>\n",
       "      <th>rating</th>\n",
       "      <th>res</th>\n",
       "    </tr>\n",
       "  </thead>\n",
       "  <tbody>\n",
       "    <tr>\n",
       "      <th>0</th>\n",
       "      <td>Abu Jayed</td>\n",
       "      <td>2019-2019</td>\n",
       "      <td>2</td>\n",
       "      <td>2</td>\n",
       "      <td>18.0</td>\n",
       "      <td>0</td>\n",
       "      <td>114</td>\n",
       "      <td>5</td>\n",
       "      <td>22.80</td>\n",
       "      <td>6.33</td>\n",
       "      <td>21.6</td>\n",
       "      <td>0</td>\n",
       "      <td>1</td>\n",
       "      <td>0</td>\n",
       "      <td>0</td>\n",
       "      <td>59.543860</td>\n",
       "      <td>1</td>\n",
       "    </tr>\n",
       "    <tr>\n",
       "      <th>1</th>\n",
       "      <td>Afif Hossain</td>\n",
       "      <td>2020-2020</td>\n",
       "      <td>1</td>\n",
       "      <td>1</td>\n",
       "      <td>2.0</td>\n",
       "      <td>0</td>\n",
       "      <td>12</td>\n",
       "      <td>1</td>\n",
       "      <td>12.00</td>\n",
       "      <td>6.00</td>\n",
       "      <td>12.0</td>\n",
       "      <td>0</td>\n",
       "      <td>0</td>\n",
       "      <td>0</td>\n",
       "      <td>0</td>\n",
       "      <td>13.083333</td>\n",
       "      <td>0</td>\n",
       "    </tr>\n",
       "    <tr>\n",
       "      <th>2</th>\n",
       "      <td>Al-Amin Hossain</td>\n",
       "      <td>2014-2020</td>\n",
       "      <td>15</td>\n",
       "      <td>15</td>\n",
       "      <td>110.3</td>\n",
       "      <td>7</td>\n",
       "      <td>608</td>\n",
       "      <td>22</td>\n",
       "      <td>27.63</td>\n",
       "      <td>5.50</td>\n",
       "      <td>30.1</td>\n",
       "      <td>2</td>\n",
       "      <td>0</td>\n",
       "      <td>1</td>\n",
       "      <td>0</td>\n",
       "      <td>42.099647</td>\n",
       "      <td>1</td>\n",
       "    </tr>\n",
       "    <tr>\n",
       "      <th>3</th>\n",
       "      <td>Mahmudullah</td>\n",
       "      <td>2007-2020</td>\n",
       "      <td>188</td>\n",
       "      <td>136</td>\n",
       "      <td>688.4</td>\n",
       "      <td>14</td>\n",
       "      <td>3561</td>\n",
       "      <td>76</td>\n",
       "      <td>46.85</td>\n",
       "      <td>5.17</td>\n",
       "      <td>54.3</td>\n",
       "      <td>0</td>\n",
       "      <td>0</td>\n",
       "      <td>64</td>\n",
       "      <td>0</td>\n",
       "      <td>26.784326</td>\n",
       "      <td>0</td>\n",
       "    </tr>\n",
       "    <tr>\n",
       "      <th>4</th>\n",
       "      <td>Mashrafe Mortaza</td>\n",
       "      <td>2001-2020</td>\n",
       "      <td>218</td>\n",
       "      <td>218</td>\n",
       "      <td>1804.3</td>\n",
       "      <td>122</td>\n",
       "      <td>8785</td>\n",
       "      <td>269</td>\n",
       "      <td>32.65</td>\n",
       "      <td>4.86</td>\n",
       "      <td>40.2</td>\n",
       "      <td>7</td>\n",
       "      <td>1</td>\n",
       "      <td>61</td>\n",
       "      <td>0</td>\n",
       "      <td>41.630347</td>\n",
       "      <td>1</td>\n",
       "    </tr>\n",
       "    <tr>\n",
       "      <th>5</th>\n",
       "      <td>Mehidy Hasan Miraz</td>\n",
       "      <td>2017-2020</td>\n",
       "      <td>41</td>\n",
       "      <td>40</td>\n",
       "      <td>349.1</td>\n",
       "      <td>10</td>\n",
       "      <td>1625</td>\n",
       "      <td>40</td>\n",
       "      <td>40.62</td>\n",
       "      <td>4.65</td>\n",
       "      <td>52.3</td>\n",
       "      <td>1</td>\n",
       "      <td>0</td>\n",
       "      <td>13</td>\n",
       "      <td>0</td>\n",
       "      <td>41.678260</td>\n",
       "      <td>1</td>\n",
       "    </tr>\n",
       "    <tr>\n",
       "      <th>6</th>\n",
       "      <td>Mohammad Saifuddin</td>\n",
       "      <td>2017-2020</td>\n",
       "      <td>22</td>\n",
       "      <td>22</td>\n",
       "      <td>165.3</td>\n",
       "      <td>7</td>\n",
       "      <td>972</td>\n",
       "      <td>31</td>\n",
       "      <td>31.35</td>\n",
       "      <td>5.87</td>\n",
       "      <td>32.0</td>\n",
       "      <td>1</td>\n",
       "      <td>0</td>\n",
       "      <td>3</td>\n",
       "      <td>0</td>\n",
       "      <td>45.665149</td>\n",
       "      <td>1</td>\n",
       "    </tr>\n",
       "    <tr>\n",
       "      <th>7</th>\n",
       "      <td>Mosaddek Hossain</td>\n",
       "      <td>2016-2019</td>\n",
       "      <td>35</td>\n",
       "      <td>33</td>\n",
       "      <td>150.2</td>\n",
       "      <td>1</td>\n",
       "      <td>787</td>\n",
       "      <td>14</td>\n",
       "      <td>56.21</td>\n",
       "      <td>5.23</td>\n",
       "      <td>64.4</td>\n",
       "      <td>0</td>\n",
       "      <td>0</td>\n",
       "      <td>13</td>\n",
       "      <td>0</td>\n",
       "      <td>24.297174</td>\n",
       "      <td>0</td>\n",
       "    </tr>\n",
       "    <tr>\n",
       "      <th>8</th>\n",
       "      <td>Mustafizur Rahman</td>\n",
       "      <td>2015-2020</td>\n",
       "      <td>58</td>\n",
       "      <td>57</td>\n",
       "      <td>480.5</td>\n",
       "      <td>22</td>\n",
       "      <td>2512</td>\n",
       "      <td>109</td>\n",
       "      <td>23.04</td>\n",
       "      <td>5.22</td>\n",
       "      <td>26.4</td>\n",
       "      <td>3</td>\n",
       "      <td>5</td>\n",
       "      <td>12</td>\n",
       "      <td>0</td>\n",
       "      <td>46.071634</td>\n",
       "      <td>1</td>\n",
       "    </tr>\n",
       "    <tr>\n",
       "      <th>9</th>\n",
       "      <td>Rubel Hossain</td>\n",
       "      <td>2009-2019</td>\n",
       "      <td>101</td>\n",
       "      <td>99</td>\n",
       "      <td>756.4</td>\n",
       "      <td>28</td>\n",
       "      <td>4300</td>\n",
       "      <td>126</td>\n",
       "      <td>34.12</td>\n",
       "      <td>5.68</td>\n",
       "      <td>36.0</td>\n",
       "      <td>7</td>\n",
       "      <td>1</td>\n",
       "      <td>20</td>\n",
       "      <td>0</td>\n",
       "      <td>44.773390</td>\n",
       "      <td>1</td>\n",
       "    </tr>\n",
       "  </tbody>\n",
       "</table>\n",
       "</div>"
      ],
      "text/plain": [
       "               Player       Span  Mat  Inns   Overs  Mdns  Runs  Wkts    Ave  \\\n",
       "0           Abu Jayed  2019-2019    2     2    18.0     0   114     5  22.80   \n",
       "1        Afif Hossain  2020-2020    1     1     2.0     0    12     1  12.00   \n",
       "2     Al-Amin Hossain  2014-2020   15    15   110.3     7   608    22  27.63   \n",
       "3         Mahmudullah  2007-2020  188   136   688.4    14  3561    76  46.85   \n",
       "4    Mashrafe Mortaza  2001-2020  218   218  1804.3   122  8785   269  32.65   \n",
       "5  Mehidy Hasan Miraz  2017-2020   41    40   349.1    10  1625    40  40.62   \n",
       "6  Mohammad Saifuddin  2017-2020   22    22   165.3     7   972    31  31.35   \n",
       "7    Mosaddek Hossain  2016-2019   35    33   150.2     1   787    14  56.21   \n",
       "8   Mustafizur Rahman  2015-2020   58    57   480.5    22  2512   109  23.04   \n",
       "9       Rubel Hossain  2009-2019  101    99   756.4    28  4300   126  34.12   \n",
       "\n",
       "   Econ    SR  4  5  Ct  St     rating  res  \n",
       "0  6.33  21.6  0  1   0   0  59.543860    1  \n",
       "1  6.00  12.0  0  0   0   0  13.083333    0  \n",
       "2  5.50  30.1  2  0   1   0  42.099647    1  \n",
       "3  5.17  54.3  0  0  64   0  26.784326    0  \n",
       "4  4.86  40.2  7  1  61   0  41.630347    1  \n",
       "5  4.65  52.3  1  0  13   0  41.678260    1  \n",
       "6  5.87  32.0  1  0   3   0  45.665149    1  \n",
       "7  5.23  64.4  0  0  13   0  24.297174    0  \n",
       "8  5.22  26.4  3  5  12   0  46.071634    1  \n",
       "9  5.68  36.0  7  1  20   0  44.773390    1  "
      ]
     },
     "execution_count": 84,
     "metadata": {},
     "output_type": "execute_result"
    }
   ],
   "source": [
    "dm.head(10)"
   ]
  },
  {
   "cell_type": "code",
   "execution_count": 85,
   "metadata": {},
   "outputs": [
    {
     "data": {
      "text/plain": [
       "array([0, 0, 1, 1, 1, 1, 1, 0, 1, 1], dtype=int64)"
      ]
     },
     "execution_count": 85,
     "metadata": {},
     "output_type": "execute_result"
    }
   ],
   "source": [
    "model.predict(p[:10])"
   ]
  },
  {
   "cell_type": "code",
   "execution_count": 92,
   "metadata": {},
   "outputs": [],
   "source": [
    "s=dm.sort_values(by='rating', ascending=False)"
   ]
  },
  {
   "cell_type": "code",
   "execution_count": 93,
   "metadata": {},
   "outputs": [
    {
     "data": {
      "text/html": [
       "<div>\n",
       "<style scoped>\n",
       "    .dataframe tbody tr th:only-of-type {\n",
       "        vertical-align: middle;\n",
       "    }\n",
       "\n",
       "    .dataframe tbody tr th {\n",
       "        vertical-align: top;\n",
       "    }\n",
       "\n",
       "    .dataframe thead th {\n",
       "        text-align: right;\n",
       "    }\n",
       "</style>\n",
       "<table border=\"1\" class=\"dataframe\">\n",
       "  <thead>\n",
       "    <tr style=\"text-align: right;\">\n",
       "      <th></th>\n",
       "      <th>Player</th>\n",
       "      <th>Span</th>\n",
       "      <th>Mat</th>\n",
       "      <th>Inns</th>\n",
       "      <th>Overs</th>\n",
       "      <th>Mdns</th>\n",
       "      <th>Runs</th>\n",
       "      <th>Wkts</th>\n",
       "      <th>Ave</th>\n",
       "      <th>Econ</th>\n",
       "      <th>SR</th>\n",
       "      <th>4</th>\n",
       "      <th>5</th>\n",
       "      <th>Ct</th>\n",
       "      <th>St</th>\n",
       "      <th>rating</th>\n",
       "      <th>res</th>\n",
       "    </tr>\n",
       "  </thead>\n",
       "  <tbody>\n",
       "    <tr>\n",
       "      <th>0</th>\n",
       "      <td>Abu Jayed</td>\n",
       "      <td>2019-2019</td>\n",
       "      <td>2</td>\n",
       "      <td>2</td>\n",
       "      <td>18.0</td>\n",
       "      <td>0</td>\n",
       "      <td>114</td>\n",
       "      <td>5</td>\n",
       "      <td>22.80</td>\n",
       "      <td>6.33</td>\n",
       "      <td>21.6</td>\n",
       "      <td>0</td>\n",
       "      <td>1</td>\n",
       "      <td>0</td>\n",
       "      <td>0</td>\n",
       "      <td>59.543860</td>\n",
       "      <td>1</td>\n",
       "    </tr>\n",
       "    <tr>\n",
       "      <th>8</th>\n",
       "      <td>Mustafizur Rahman</td>\n",
       "      <td>2015-2020</td>\n",
       "      <td>58</td>\n",
       "      <td>57</td>\n",
       "      <td>480.5</td>\n",
       "      <td>22</td>\n",
       "      <td>2512</td>\n",
       "      <td>109</td>\n",
       "      <td>23.04</td>\n",
       "      <td>5.22</td>\n",
       "      <td>26.4</td>\n",
       "      <td>3</td>\n",
       "      <td>5</td>\n",
       "      <td>12</td>\n",
       "      <td>0</td>\n",
       "      <td>46.071634</td>\n",
       "      <td>1</td>\n",
       "    </tr>\n",
       "    <tr>\n",
       "      <th>6</th>\n",
       "      <td>Mohammad Saifuddin</td>\n",
       "      <td>2017-2020</td>\n",
       "      <td>22</td>\n",
       "      <td>22</td>\n",
       "      <td>165.3</td>\n",
       "      <td>7</td>\n",
       "      <td>972</td>\n",
       "      <td>31</td>\n",
       "      <td>31.35</td>\n",
       "      <td>5.87</td>\n",
       "      <td>32.0</td>\n",
       "      <td>1</td>\n",
       "      <td>0</td>\n",
       "      <td>3</td>\n",
       "      <td>0</td>\n",
       "      <td>45.665149</td>\n",
       "      <td>1</td>\n",
       "    </tr>\n",
       "    <tr>\n",
       "      <th>9</th>\n",
       "      <td>Rubel Hossain</td>\n",
       "      <td>2009-2019</td>\n",
       "      <td>101</td>\n",
       "      <td>99</td>\n",
       "      <td>756.4</td>\n",
       "      <td>28</td>\n",
       "      <td>4300</td>\n",
       "      <td>126</td>\n",
       "      <td>34.12</td>\n",
       "      <td>5.68</td>\n",
       "      <td>36.0</td>\n",
       "      <td>7</td>\n",
       "      <td>1</td>\n",
       "      <td>20</td>\n",
       "      <td>0</td>\n",
       "      <td>44.773390</td>\n",
       "      <td>1</td>\n",
       "    </tr>\n",
       "    <tr>\n",
       "      <th>11</th>\n",
       "      <td>Shafiul Islam</td>\n",
       "      <td>2010-2020</td>\n",
       "      <td>60</td>\n",
       "      <td>60</td>\n",
       "      <td>423.2</td>\n",
       "      <td>26</td>\n",
       "      <td>2529</td>\n",
       "      <td>70</td>\n",
       "      <td>36.12</td>\n",
       "      <td>5.97</td>\n",
       "      <td>36.2</td>\n",
       "      <td>4</td>\n",
       "      <td>0</td>\n",
       "      <td>8</td>\n",
       "      <td>0</td>\n",
       "      <td>43.405782</td>\n",
       "      <td>1</td>\n",
       "    </tr>\n",
       "  </tbody>\n",
       "</table>\n",
       "</div>"
      ],
      "text/plain": [
       "                Player       Span  Mat  Inns  Overs  Mdns  Runs  Wkts    Ave  \\\n",
       "0            Abu Jayed  2019-2019    2     2   18.0     0   114     5  22.80   \n",
       "8    Mustafizur Rahman  2015-2020   58    57  480.5    22  2512   109  23.04   \n",
       "6   Mohammad Saifuddin  2017-2020   22    22  165.3     7   972    31  31.35   \n",
       "9        Rubel Hossain  2009-2019  101    99  756.4    28  4300   126  34.12   \n",
       "11       Shafiul Islam  2010-2020   60    60  423.2    26  2529    70  36.12   \n",
       "\n",
       "    Econ    SR  4  5  Ct  St     rating  res  \n",
       "0   6.33  21.6  0  1   0   0  59.543860    1  \n",
       "8   5.22  26.4  3  5  12   0  46.071634    1  \n",
       "6   5.87  32.0  1  0   3   0  45.665149    1  \n",
       "9   5.68  36.0  7  1  20   0  44.773390    1  \n",
       "11  5.97  36.2  4  0   8   0  43.405782    1  "
      ]
     },
     "execution_count": 93,
     "metadata": {},
     "output_type": "execute_result"
    }
   ],
   "source": [
    "s.head(5)"
   ]
  },
  {
   "cell_type": "code",
   "execution_count": 94,
   "metadata": {},
   "outputs": [],
   "source": [
    "k=s.Player"
   ]
  },
  {
   "cell_type": "code",
   "execution_count": 95,
   "metadata": {},
   "outputs": [
    {
     "data": {
      "text/plain": [
       "0              Abu Jayed\n",
       "8      Mustafizur Rahman\n",
       "6     Mohammad Saifuddin\n",
       "9          Rubel Hossain\n",
       "11         Shafiul Islam\n",
       "Name: Player, dtype: object"
      ]
     },
     "execution_count": 95,
     "metadata": {},
     "output_type": "execute_result"
    }
   ],
   "source": [
    "k.head(5)"
   ]
  },
  {
   "cell_type": "code",
   "execution_count": 150,
   "metadata": {},
   "outputs": [
    {
     "name": "stdout",
     "output_type": "stream",
     "text": [
      "Automatically created module for IPython interactive environment\n"
     ]
    },
    {
     "data": {
      "image/png": "[encoded data removed]",
      "text/plain": [
       "<Figure size 432x288 with 1 Axes>"
      ]
     },
     "metadata": {
      "needs_background": "light"
     },
     "output_type": "display_data"
    }
   ],
   "source": [
    "print(__doc__)\n",
    "import pandas as pd\n",
    "import numpy as np\n",
    "import matplotlib.pyplot as plt\n",
    "from sklearn.naive_bayes import GaussianNB\n",
    "from sklearn.svm import SVC\n",
    "from sklearn.datasets import load_digits\n",
    "from sklearn.model_selection import learning_curve\n",
    "from sklearn.model_selection import ShuffleSplit\n",
    "\n",
    "\n",
    "def plot_learning_curve(estimator, title, X, y, ylim=None, cv=None,\n",
    "                        n_jobs=1, train_sizes=np.linspace(.1, 1.0, 5)):\n",
    "    plt.figure()\n",
    "    plt.title(title)\n",
    "    if ylim is not None:\n",
    "        plt.ylim(*ylim)\n",
    "    plt.xlabel(\"Training examples\")\n",
    "    plt.ylabel(\"Score\")\n",
    "    train_sizes, train_scores, test_scores = learning_curve(\n",
    "        estimator, X, y, cv=cv, n_jobs=n_jobs, train_sizes=train_sizes)\n",
    "    train_scores_mean = np.mean(train_scores, axis=1)\n",
    "    train_scores_std = np.std(train_scores, axis=1)\n",
    "    test_scores_mean = np.mean(test_scores, axis=1)\n",
    "    test_scores_std = np.std(test_scores, axis=1)\n",
    "    plt.grid()\n",
    "\n",
    "    plt.fill_between(train_sizes, train_scores_mean - train_scores_std,\n",
    "                     train_scores_mean + train_scores_std, alpha=0.1,\n",
    "                     color=\"r\")\n",
    "    plt.fill_between(train_sizes, test_scores_mean - test_scores_std,\n",
    "                     test_scores_mean + test_scores_std, alpha=0.1, color=\"g\")\n",
    "    plt.plot(train_sizes, train_scores_mean, 'o-', color=\"r\",\n",
    "             label=\"Training score\")\n",
    "    plt.plot(train_sizes, test_scores_mean, 'o-', color=\"g\",\n",
    "             label=\"Cross-validation score\")\n",
    "\n",
    "    plt.legend(loc=\"best\")\n",
    "    return plt\n",
    "\n",
    "\n",
    "df = df = pd.read_csv('Boller_All.csv')\n",
    "\n",
    "\n",
    "X=df.drop(['res','Player','Span'],axis='columns')\n",
    "y=df.res\n",
    "\n",
    "title = \"Learning Curves (Naive Bayes)\"\n",
    "# Cross validation with 100 iterations to get smoother mean test and train\n",
    "# score curves, each time with 20% data randomly selected as a validation set.\n",
    "cv = ShuffleSplit(n_splits=100, test_size=0.3, random_state=0)\n",
    "\n",
    "estimator = GaussianNB()\n",
    "plot_learning_curve(estimator, title, X, y, ylim=(0.7, 1.01), cv=cv, n_jobs=4)\n",
    "\n",
    "plt.show()"
   ]
  },
  {
   "cell_type": "code",
   "execution_count": null,
   "metadata": {},
   "outputs": [],
   "source": []
  }
 ],
 "metadata": {
  "kernelspec": {
   "display_name": "Python 3",
   "language": "python",
   "name": "python3"
  },
  "language_info": {
   "codemirror_mode": {
    "name": "ipython",
    "version": 3
   },
   "file_extension": ".py",
   "mimetype": "text/x-python",
   "name": "python",
   "nbconvert_exporter": "python",
   "pygments_lexer": "ipython3",
   "version": "3.8.5"
  }
 },
 "nbformat": 4,
 "nbformat_minor": 4
}

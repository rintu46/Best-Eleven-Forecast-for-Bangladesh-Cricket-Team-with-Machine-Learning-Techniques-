{
 "cells": [
  {
   "cell_type": "code",
   "execution_count": 1,
   "metadata": {},
   "outputs": [],
   "source": [
    "import pandas as pd\n",
    "import numpy as np\n",
    "import seaborn as sns\n",
    "import matplotlib.pyplot as plt"
   ]
  },
  {
   "cell_type": "code",
   "execution_count": 2,
   "metadata": {},
   "outputs": [
    {
     "data": {
      "text/plain": [
       "(128, 17)"
      ]
     },
     "execution_count": 2,
     "metadata": {},
     "output_type": "execute_result"
    }
   ],
   "source": [
    "cri_df= pd.read_csv(\"Batsman_All.csv\")\n",
    "cri_df.shape"
   ]
  },
  {
   "cell_type": "code",
   "execution_count": 7,
   "metadata": {},
   "outputs": [
    {
     "data": {
      "text/html": [
       "<div>\n",
       "<style scoped>\n",
       "    .dataframe tbody tr th:only-of-type {\n",
       "        vertical-align: middle;\n",
       "    }\n",
       "\n",
       "    .dataframe tbody tr th {\n",
       "        vertical-align: top;\n",
       "    }\n",
       "\n",
       "    .dataframe thead th {\n",
       "        text-align: right;\n",
       "    }\n",
       "</style>\n",
       "<table border=\"1\" class=\"dataframe\">\n",
       "  <thead>\n",
       "    <tr style=\"text-align: right;\">\n",
       "      <th></th>\n",
       "      <th>Player</th>\n",
       "      <th>Span</th>\n",
       "      <th>Mat</th>\n",
       "      <th>Inns</th>\n",
       "      <th>NO</th>\n",
       "      <th>Runs</th>\n",
       "      <th>HS</th>\n",
       "      <th>Ave</th>\n",
       "      <th>BF</th>\n",
       "      <th>SR</th>\n",
       "      <th>hundred</th>\n",
       "      <th>fifty</th>\n",
       "      <th>zero</th>\n",
       "      <th>four</th>\n",
       "      <th>six</th>\n",
       "      <th>rating</th>\n",
       "      <th>res</th>\n",
       "    </tr>\n",
       "  </thead>\n",
       "  <tbody>\n",
       "    <tr>\n",
       "      <th>0</th>\n",
       "      <td>Abdur Razzak</td>\n",
       "      <td>2004-2014</td>\n",
       "      <td>153</td>\n",
       "      <td>97</td>\n",
       "      <td>39</td>\n",
       "      <td>779</td>\n",
       "      <td>53</td>\n",
       "      <td>13.43</td>\n",
       "      <td>1020</td>\n",
       "      <td>76.37</td>\n",
       "      <td>0</td>\n",
       "      <td>1</td>\n",
       "      <td>12</td>\n",
       "      <td>55</td>\n",
       "      <td>21</td>\n",
       "      <td>12.371973</td>\n",
       "      <td>0</td>\n",
       "    </tr>\n",
       "    <tr>\n",
       "      <th>1</th>\n",
       "      <td>Abul Hasan</td>\n",
       "      <td>2012-2018</td>\n",
       "      <td>7</td>\n",
       "      <td>3</td>\n",
       "      <td>0</td>\n",
       "      <td>11</td>\n",
       "      <td>7</td>\n",
       "      <td>3.66</td>\n",
       "      <td>16</td>\n",
       "      <td>68.75</td>\n",
       "      <td>0</td>\n",
       "      <td>0</td>\n",
       "      <td>0</td>\n",
       "      <td>1</td>\n",
       "      <td>0</td>\n",
       "      <td>5.687500</td>\n",
       "      <td>0</td>\n",
       "    </tr>\n",
       "  </tbody>\n",
       "</table>\n",
       "</div>"
      ],
      "text/plain": [
       "         Player       Span  Mat  Inns  NO  Runs  HS    Ave    BF     SR  \\\n",
       "0  Abdur Razzak  2004-2014  153    97  39   779  53  13.43  1020  76.37   \n",
       "1    Abul Hasan  2012-2018    7     3   0    11   7   3.66    16  68.75   \n",
       "\n",
       "   hundred  fifty  zero  four  six     rating  res  \n",
       "0        0      1    12    55   21  12.371973    0  \n",
       "1        0      0     0     1    0   5.687500    0  "
      ]
     },
     "execution_count": 7,
     "metadata": {},
     "output_type": "execute_result"
    }
   ],
   "source": [
    "cri_df.head(2)"
   ]
  },
  {
   "cell_type": "code",
   "execution_count": 3,
   "metadata": {},
   "outputs": [
    {
     "data": {
      "text/plain": [
       "Player     128\n",
       "Span       128\n",
       "Mat        128\n",
       "Inns       128\n",
       "NO         128\n",
       "Runs       128\n",
       "HS         128\n",
       "Ave        128\n",
       "BF         128\n",
       "SR         128\n",
       "hundred    128\n",
       "fifty      128\n",
       "zero       128\n",
       "four       128\n",
       "six        128\n",
       "rating     128\n",
       "res        128\n",
       "dtype: int64"
      ]
     },
     "execution_count": 3,
     "metadata": {},
     "output_type": "execute_result"
    }
   ],
   "source": [
    "cri_df.count()"
   ]
  },
  {
   "cell_type": "code",
   "execution_count": 4,
   "metadata": {},
   "outputs": [
    {
     "name": "stdout",
     "output_type": "stream",
     "text": [
      "<class 'pandas.core.frame.DataFrame'>\n",
      "RangeIndex: 128 entries, 0 to 127\n",
      "Data columns (total 17 columns):\n",
      " #   Column   Non-Null Count  Dtype  \n",
      "---  ------   --------------  -----  \n",
      " 0   Player   128 non-null    object \n",
      " 1   Span     128 non-null    object \n",
      " 2   Mat      128 non-null    int64  \n",
      " 3   Inns     128 non-null    int64  \n",
      " 4   NO       128 non-null    int64  \n",
      " 5   Runs     128 non-null    int64  \n",
      " 6   HS       128 non-null    int64  \n",
      " 7   Ave      128 non-null    float64\n",
      " 8   BF       128 non-null    int64  \n",
      " 9   SR       128 non-null    float64\n",
      " 10  hundred  128 non-null    int64  \n",
      " 11  fifty    128 non-null    int64  \n",
      " 12  zero     128 non-null    int64  \n",
      " 13  four     128 non-null    int64  \n",
      " 14  six      128 non-null    int64  \n",
      " 15  rating   128 non-null    float64\n",
      " 16  res      128 non-null    int64  \n",
      "dtypes: float64(3), int64(12), object(2)\n",
      "memory usage: 17.1+ KB\n"
     ]
    }
   ],
   "source": [
    "cri_df.info()"
   ]
  },
  {
   "cell_type": "code",
   "execution_count": 5,
   "metadata": {},
   "outputs": [
    {
     "name": "stdout",
     "output_type": "stream",
     "text": [
      "     Specs         Score\n",
      "6       BF  86929.440847\n",
      "3     Runs  65672.012185\n",
      "11    four   6440.375125\n",
      "4       HS   2979.952950\n",
      "1     Inns   1376.110286\n",
      "13  rating   1147.113549\n",
      "0      Mat   1027.265846\n",
      "5      Ave    630.558912\n",
      "12     six    585.642925\n",
      "9    fifty    466.889660\n"
     ]
    }
   ],
   "source": [
    "from sklearn.feature_selection import SelectKBest\n",
    "from sklearn.feature_selection import chi2\n",
    "X = cri_df.iloc[:,2:16]  #independent columns\n",
    "y = cri_df.iloc[:,-1]    #target column i.e price range\n",
    "#apply SelectKBest class to extract top 10 best features\n",
    "bestfeatures = SelectKBest(score_func=chi2, k=10)\n",
    "fit = bestfeatures.fit(X,y)\n",
    "dfscores = pd.DataFrame(fit.scores_)\n",
    "dfcolumns = pd.DataFrame(X.columns)\n",
    "#concat two dataframes for better visualization \n",
    "featureScores = pd.concat([dfcolumns,dfscores],axis=1)\n",
    "featureScores.columns = ['Specs','Score']  #naming the dataframe columns\n",
    "print(featureScores.nlargest(10,'Score'))  #print 10 best features\n",
    "\n",
    "plt.show()"
   ]
  },
  {
   "cell_type": "code",
   "execution_count": 6,
   "metadata": {},
   "outputs": [
    {
     "data": {
      "image/png": "[encoded data removed]",
      "text/plain": [
       "<Figure size 432x288 with 1 Axes>"
      ]
     },
     "metadata": {
      "needs_background": "light"
     },
     "output_type": "display_data"
    }
   ],
   "source": [
    "f = featureScores.nlargest(10,'Score')\n",
    "f.plot(x= 'Specs', y = 'Score', kind='barh', color ='teal')\n",
    "#featureScores.plot(kind='barh', nlargest(10),color ='teal')\n",
    "plt.show()"
   ]
  },
  {
   "cell_type": "code",
   "execution_count": 22,
   "metadata": {},
   "outputs": [
    {
     "data": {
      "text/plain": [
       "array([0, 0, 1, 1, 1, 0, 0, 1, 0, 0, 1, 0, 0, 0, 1], dtype=int64)"
      ]
     },
     "execution_count": 22,
     "metadata": {},
     "output_type": "execute_result"
    }
   ],
   "source": [
    "cri_df.columns\n",
    "feature_df = cri_df[['BF','Runs', 'four', 'HS', 'Inns', 'rating','six', 'Mat','fifty','Ave']]\n",
    "\n",
    "X = np.asarray(feature_df)\n",
    "y = np.asarray(cri_df['res'])\n",
    "\n",
    "\n",
    "y[0:15]"
   ]
  },
  {
   "cell_type": "code",
   "execution_count": 11,
   "metadata": {},
   "outputs": [
    {
     "data": {
      "text/plain": [
       "(39, 14)"
      ]
     },
     "execution_count": 11,
     "metadata": {},
     "output_type": "execute_result"
    }
   ],
   "source": [
    "from sklearn.model_selection import train_test_split\n",
    "\n",
    "X_train, X_test, y_train, y_test = train_test_split(X, y, test_size = 0.3, random_state = 2)\n",
    "X_test.shape"
   ]
  },
  {
   "cell_type": "code",
   "execution_count": 12,
   "metadata": {},
   "outputs": [],
   "source": [
    "from sklearn import svm\n",
    "\n",
    "classifier = svm.SVC(kernel = 'linear', gamma = 'auto', C = 2)\n",
    "classifier.fit(X_train, y_train)\n",
    "\n",
    "y_predict = classifier.predict(X_test)"
   ]
  },
  {
   "cell_type": "code",
   "execution_count": 13,
   "metadata": {},
   "outputs": [
    {
     "name": "stdout",
     "output_type": "stream",
     "text": [
      "Accuracy score:  0.9487179487179487\n"
     ]
    }
   ],
   "source": [
    "from sklearn.metrics import accuracy_score\n",
    "\n",
    "print('Accuracy score: ',accuracy_score(y_test, y_predict))"
   ]
  },
  {
   "cell_type": "code",
   "execution_count": 14,
   "metadata": {},
   "outputs": [
    {
     "name": "stdout",
     "output_type": "stream",
     "text": [
      "              precision    recall  f1-score   support\n",
      "\n",
      "           0       0.96      0.96      0.96        26\n",
      "           1       0.92      0.92      0.92        13\n",
      "\n",
      "    accuracy                           0.95        39\n",
      "   macro avg       0.94      0.94      0.94        39\n",
      "weighted avg       0.95      0.95      0.95        39\n",
      "\n"
     ]
    }
   ],
   "source": [
    "from sklearn.metrics import classification_report\n",
    "\n",
    "print(classification_report(y_test, y_predict))"
   ]
  },
  {
   "cell_type": "code",
   "execution_count": 15,
   "metadata": {},
   "outputs": [],
   "source": [
    "k = cri_df.sort_values(by='rating', ascending = False)"
   ]
  },
  {
   "cell_type": "code",
   "execution_count": 16,
   "metadata": {},
   "outputs": [],
   "source": [
    "s = k.head(10)"
   ]
  },
  {
   "cell_type": "code",
   "execution_count": 17,
   "metadata": {},
   "outputs": [
    {
     "data": {
      "text/plain": [
       "15       Anwar Hossain\n",
       "51       Mahbubul Alam\n",
       "119        Tamim Iqbal\n",
       "113      Soumya Sarkar\n",
       "87         Nurul Hasan\n",
       "49           Liton Das\n",
       "38         Imrul Kayes\n",
       "107    Shakib Al Hasan\n",
       "12        Anamul Haque\n",
       "105    Shahriar Nafees\n",
       "Name: Player, dtype: object"
      ]
     },
     "execution_count": 17,
     "metadata": {},
     "output_type": "execute_result"
    }
   ],
   "source": [
    "k = s.Player\n",
    "k.head(10)"
   ]
  },
  {
   "cell_type": "code",
   "execution_count": null,
   "metadata": {},
   "outputs": [],
   "source": []
  }
 ],
 "metadata": {
  "kernelspec": {
   "display_name": "Python 3",
   "language": "python",
   "name": "python3"
  },
  "language_info": {
   "codemirror_mode": {
    "name": "ipython",
    "version": 3
   },
   "file_extension": ".py",
   "mimetype": "text/x-python",
   "name": "python",
   "nbconvert_exporter": "python",
   "pygments_lexer": "ipython3",
   "version": "3.8.5"
  }
 },
 "nbformat": 4,
 "nbformat_minor": 4
}

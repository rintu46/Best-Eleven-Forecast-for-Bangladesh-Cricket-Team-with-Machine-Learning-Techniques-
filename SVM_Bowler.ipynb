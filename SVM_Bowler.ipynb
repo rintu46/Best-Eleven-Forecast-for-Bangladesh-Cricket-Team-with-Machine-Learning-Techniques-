{
 "cells": [
  {
   "cell_type": "code",
   "execution_count": 1,
   "metadata": {},
   "outputs": [],
   "source": [
    "import pandas as pd\n",
    "import numpy as np\n",
    "import seaborn as sns\n",
    "import matplotlib.pyplot as plt"
   ]
  },
  {
   "cell_type": "code",
   "execution_count": 2,
   "metadata": {},
   "outputs": [
    {
     "data": {
      "text/plain": [
       "(96, 17)"
      ]
     },
     "execution_count": 2,
     "metadata": {},
     "output_type": "execute_result"
    }
   ],
   "source": [
    "cri_df= pd.read_csv(\"Boller_All.csv\")\n",
    "cri_df.shape"
   ]
  },
  {
   "cell_type": "code",
   "execution_count": 3,
   "metadata": {},
   "outputs": [
    {
     "data": {
      "text/html": [
       "<div>\n",
       "<style scoped>\n",
       "    .dataframe tbody tr th:only-of-type {\n",
       "        vertical-align: middle;\n",
       "    }\n",
       "\n",
       "    .dataframe tbody tr th {\n",
       "        vertical-align: top;\n",
       "    }\n",
       "\n",
       "    .dataframe thead th {\n",
       "        text-align: right;\n",
       "    }\n",
       "</style>\n",
       "<table border=\"1\" class=\"dataframe\">\n",
       "  <thead>\n",
       "    <tr style=\"text-align: right;\">\n",
       "      <th></th>\n",
       "      <th>Player</th>\n",
       "      <th>Span</th>\n",
       "      <th>Mat</th>\n",
       "      <th>Inns</th>\n",
       "      <th>Overs</th>\n",
       "      <th>Mdns</th>\n",
       "      <th>Runs</th>\n",
       "      <th>Wkts</th>\n",
       "      <th>Ave</th>\n",
       "      <th>Econ</th>\n",
       "      <th>SR</th>\n",
       "      <th>4</th>\n",
       "      <th>5</th>\n",
       "      <th>Ct</th>\n",
       "      <th>St</th>\n",
       "      <th>rat</th>\n",
       "      <th>res</th>\n",
       "    </tr>\n",
       "  </thead>\n",
       "  <tbody>\n",
       "    <tr>\n",
       "      <th>0</th>\n",
       "      <td>Abdur Razzak</td>\n",
       "      <td>2004-2014</td>\n",
       "      <td>153</td>\n",
       "      <td>152</td>\n",
       "      <td>1327.3</td>\n",
       "      <td>70</td>\n",
       "      <td>6065</td>\n",
       "      <td>207</td>\n",
       "      <td>29.29</td>\n",
       "      <td>4.56</td>\n",
       "      <td>38.4</td>\n",
       "      <td>5</td>\n",
       "      <td>4</td>\n",
       "      <td>32</td>\n",
       "      <td>0</td>\n",
       "      <td>41.350027</td>\n",
       "      <td>1</td>\n",
       "    </tr>\n",
       "    <tr>\n",
       "      <th>1</th>\n",
       "      <td>Abul Hasan</td>\n",
       "      <td>2012-2018</td>\n",
       "      <td>7</td>\n",
       "      <td>7</td>\n",
       "      <td>36.0</td>\n",
       "      <td>1</td>\n",
       "      <td>244</td>\n",
       "      <td>0</td>\n",
       "      <td>0.00</td>\n",
       "      <td>6.77</td>\n",
       "      <td>0.0</td>\n",
       "      <td>0</td>\n",
       "      <td>0</td>\n",
       "      <td>1</td>\n",
       "      <td>0</td>\n",
       "      <td>34.884921</td>\n",
       "      <td>0</td>\n",
       "    </tr>\n",
       "  </tbody>\n",
       "</table>\n",
       "</div>"
      ],
      "text/plain": [
       "         Player       Span  Mat  Inns   Overs  Mdns  Runs  Wkts    Ave  Econ  \\\n",
       "0  Abdur Razzak  2004-2014  153   152  1327.3    70  6065   207  29.29  4.56   \n",
       "1    Abul Hasan  2012-2018    7     7    36.0     1   244     0   0.00  6.77   \n",
       "\n",
       "     SR  4  5  Ct  St        rat  res  \n",
       "0  38.4  5  4  32   0  41.350027    1  \n",
       "1   0.0  0  0   1   0  34.884921    0  "
      ]
     },
     "execution_count": 3,
     "metadata": {},
     "output_type": "execute_result"
    }
   ],
   "source": [
    "cri_df.head(2)"
   ]
  },
  {
   "cell_type": "code",
   "execution_count": 4,
   "metadata": {},
   "outputs": [
    {
     "data": {
      "text/plain": [
       "Player    96\n",
       "Span      95\n",
       "Mat       96\n",
       "Inns      96\n",
       "Overs     96\n",
       "Mdns      96\n",
       "Runs      96\n",
       "Wkts      96\n",
       "Ave       96\n",
       "Econ      96\n",
       "SR        96\n",
       "4         96\n",
       "5         96\n",
       "Ct        96\n",
       "St        96\n",
       "rat       96\n",
       "res       96\n",
       "dtype: int64"
      ]
     },
     "execution_count": 4,
     "metadata": {},
     "output_type": "execute_result"
    }
   ],
   "source": [
    "cri_df.count()"
   ]
  },
  {
   "cell_type": "code",
   "execution_count": 5,
   "metadata": {},
   "outputs": [
    {
     "name": "stdout",
     "output_type": "stream",
     "text": [
      "<class 'pandas.core.frame.DataFrame'>\n",
      "RangeIndex: 96 entries, 0 to 95\n",
      "Data columns (total 17 columns):\n",
      " #   Column  Non-Null Count  Dtype  \n",
      "---  ------  --------------  -----  \n",
      " 0   Player  96 non-null     object \n",
      " 1   Span    95 non-null     object \n",
      " 2   Mat     96 non-null     int64  \n",
      " 3   Inns    96 non-null     int64  \n",
      " 4   Overs   96 non-null     float64\n",
      " 5   Mdns    96 non-null     int64  \n",
      " 6   Runs    96 non-null     int64  \n",
      " 7   Wkts    96 non-null     int64  \n",
      " 8   Ave     96 non-null     float64\n",
      " 9   Econ    96 non-null     float64\n",
      " 10  SR      96 non-null     float64\n",
      " 11  4       96 non-null     int64  \n",
      " 12  5       96 non-null     int64  \n",
      " 13  Ct      96 non-null     int64  \n",
      " 14  St      96 non-null     int64  \n",
      " 15  rat     96 non-null     float64\n",
      " 16  res     96 non-null     int64  \n",
      "dtypes: float64(5), int64(10), object(2)\n",
      "memory usage: 12.9+ KB\n"
     ]
    }
   ],
   "source": [
    "cri_df.info()"
   ]
  },
  {
   "cell_type": "code",
   "execution_count": 6,
   "metadata": {},
   "outputs": [
    {
     "name": "stdout",
     "output_type": "stream",
     "text": [
      "    Specs         Score\n",
      "4    Runs  37973.885712\n",
      "2   Overs   7790.576797\n",
      "5    Wkts   1316.766618\n",
      "3    Mdns    610.963140\n",
      "1    Inns    579.965176\n",
      "13    rat    288.536305\n",
      "9       4     58.720522\n",
      "6     Ave     51.114648\n",
      "0     Mat     33.850777\n",
      "8      SR     31.694685\n"
     ]
    }
   ],
   "source": [
    "from sklearn.feature_selection import SelectKBest\n",
    "from sklearn.feature_selection import chi2\n",
    "X = cri_df.iloc[:,2:16]  #independent columns\n",
    "y = cri_df.iloc[:,-1]    #target column i.e price range\n",
    "#apply SelectKBest class to extract top 10 best features\n",
    "bestfeatures = SelectKBest(score_func=chi2, k=10)\n",
    "fit = bestfeatures.fit(X,y)\n",
    "dfscores = pd.DataFrame(fit.scores_)\n",
    "dfcolumns = pd.DataFrame(X.columns)\n",
    "#concat two dataframes for better visualization \n",
    "featureScores = pd.concat([dfcolumns,dfscores],axis=1)\n",
    "featureScores.columns = ['Specs','Score']  #naming the dataframe columns\n",
    "print(featureScores.nlargest(10,'Score'))  #print 10 best features\n",
    "\n",
    "plt.show()"
   ]
  },
  {
   "cell_type": "code",
   "execution_count": 7,
   "metadata": {},
   "outputs": [
    {
     "data": {
      "image/png": "[encoded data removed]",
      "text/plain": [
       "<Figure size 432x288 with 1 Axes>"
      ]
     },
     "metadata": {
      "needs_background": "light"
     },
     "output_type": "display_data"
    }
   ],
   "source": [
    "f = featureScores.nlargest(10,'Score')\n",
    "f.plot(x= 'Specs', y = 'Score', kind='barh', color ='teal')\n",
    "#featureScores.plot(kind='barh', nlargest(10),color ='teal')\n",
    "plt.show()"
   ]
  },
  {
   "cell_type": "code",
   "execution_count": 9,
   "metadata": {},
   "outputs": [
    {
     "data": {
      "text/plain": [
       "array([1, 0, 1, 1, 0, 0, 1, 0, 0, 1, 0, 0, 0, 1, 1], dtype=int64)"
      ]
     },
     "execution_count": 9,
     "metadata": {},
     "output_type": "execute_result"
    }
   ],
   "source": [
    "cri_df.columns\n",
    "feature_df = cri_df[['Overs','Runs', 'Mdns', 'Wkts', 'Inns', 'rat','Econ', 'Mat','Ave']]\n",
    "\n",
    "X = np.asarray(feature_df)\n",
    "y = np.asarray(cri_df['res'])\n",
    "\n",
    "\n",
    "y[0:15]"
   ]
  },
  {
   "cell_type": "code",
   "execution_count": 10,
   "metadata": {},
   "outputs": [
    {
     "data": {
      "text/plain": [
       "(29, 9)"
      ]
     },
     "execution_count": 10,
     "metadata": {},
     "output_type": "execute_result"
    }
   ],
   "source": [
    "from sklearn.model_selection import train_test_split\n",
    "\n",
    "X_train, X_test, y_train, y_test = train_test_split(X, y, test_size = 0.3, random_state = 2)\n",
    "X_test.shape"
   ]
  },
  {
   "cell_type": "code",
   "execution_count": 11,
   "metadata": {},
   "outputs": [],
   "source": [
    "from sklearn import svm\n",
    "\n",
    "classifier = svm.SVC(kernel = 'linear', gamma = 'auto', C = 2)\n",
    "classifier.fit(X_train, y_train)\n",
    "\n",
    "y_predict = classifier.predict(X_test)"
   ]
  },
  {
   "cell_type": "code",
   "execution_count": 12,
   "metadata": {},
   "outputs": [
    {
     "name": "stdout",
     "output_type": "stream",
     "text": [
      "Accuracy score:  0.9310344827586207\n"
     ]
    }
   ],
   "source": [
    "from sklearn.metrics import accuracy_score\n",
    "\n",
    "print('Accuracy score: ',accuracy_score(y_test, y_predict))"
   ]
  },
  {
   "cell_type": "code",
   "execution_count": 13,
   "metadata": {},
   "outputs": [
    {
     "name": "stdout",
     "output_type": "stream",
     "text": [
      "              precision    recall  f1-score   support\n",
      "\n",
      "           0       0.86      1.00      0.92        12\n",
      "           1       1.00      0.88      0.94        17\n",
      "\n",
      "    accuracy                           0.93        29\n",
      "   macro avg       0.93      0.94      0.93        29\n",
      "weighted avg       0.94      0.93      0.93        29\n",
      "\n"
     ]
    }
   ],
   "source": [
    "from sklearn.metrics import classification_report\n",
    "\n",
    "print(classification_report(y_test, y_predict))"
   ]
  },
  {
   "cell_type": "code",
   "execution_count": 15,
   "metadata": {},
   "outputs": [],
   "source": [
    "k = cri_df.sort_values(by='rat', ascending = False)"
   ]
  },
  {
   "cell_type": "code",
   "execution_count": 16,
   "metadata": {},
   "outputs": [],
   "source": [
    "s = k.head(10)"
   ]
  },
  {
   "cell_type": "code",
   "execution_count": 17,
   "metadata": {},
   "outputs": [
    {
     "data": {
      "text/plain": [
       "3               Abu Jayed\n",
       "40          Mahbubul Alam\n",
       "53        Mohammad Sharif\n",
       "90           Taskin Ahmed\n",
       "2               Abu Hider\n",
       "81           Subashis Roy\n",
       "59      Mustafizur Rahman\n",
       "64           Nazmul Islam\n",
       "52     Mohammad Saifuddin\n",
       "13    Anwar Hossain Monir\n",
       "Name: Player, dtype: object"
      ]
     },
     "execution_count": 17,
     "metadata": {},
     "output_type": "execute_result"
    }
   ],
   "source": [
    "k = s.Player\n",
    "k.head(10)"
   ]
  },
  {
   "cell_type": "code",
   "execution_count": null,
   "metadata": {},
   "outputs": [],
   "source": []
  }
 ],
 "metadata": {
  "kernelspec": {
   "display_name": "Python 3",
   "language": "python",
   "name": "python3"
  },
  "language_info": {
   "codemirror_mode": {
    "name": "ipython",
    "version": 3
   },
   "file_extension": ".py",
   "mimetype": "text/x-python",
   "name": "python",
   "nbconvert_exporter": "python",
   "pygments_lexer": "ipython3",
   "version": "3.8.5"
  }
 },
 "nbformat": 4,
 "nbformat_minor": 4
}
